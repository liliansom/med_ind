{
 "cells": [
  {
   "cell_type": "markdown",
   "metadata": {
    "colab_type": "text",
    "id": "view-in-github"
   },
   "source": [
    "<a href=\"https://colab.research.google.com/github/liliansom/med_ind/blob/main/med_ind_analise.ipynb\" target=\"_parent\"><img src=\"https://colab.research.google.com/assets/colab-badge.svg\" alt=\"Open In Colab\"/></a>"
   ]
  },
  {
   "cell_type": "markdown",
   "metadata": {
    "id": "Ixf7V2I3hQnz"
   },
   "source": [
    "Atividades a serem desenvolvidas:\n",
    "\n",
    "1. Limpeza e Pré-processamento de Dados:\n",
    "\n",
    "* Lidar com valores ausentes: Decidir se vai imputar, preencher ou remover linhas/colunas com dados faltantes.\n",
    "* Tratar outliers: Identificar e lidar com outliers que podem distorcer a análise.\n",
    "* Converter tipos de dados, se necessário, garantindo que colunas relacionadas a datas estejam no formato correto.\n",
    "\n",
    "2. Análise Exploratória de Dados (EDA):\n",
    "* Tendências de Vendas:\n",
    "  * Vendas mensais: Identificar se há meses com vendas excepcionalmente altas ou baixas.\n",
    "  * Análise por estado (UF_VENDA): Quais estados têm o maior número de vendas? Existem padrões regionais?\n",
    "  * Produtos Mais Vendidos:\n",
    "    Baseado no PRINCIPIO_ATIVO: Quais são os medicamentos mais populares?\n",
    "\n",
    "    Baseado na DESCRICAO_APRESENTACAO: Quais apresentações ou dosagens são mais vendidas?\n",
    "  * Demografia dos Consumidores:\n",
    "    Distribuição de idade dos compradores.\n",
    "    Distribuição de gênero dos compradores.\n",
    "  * Correlações:\n",
    "    Existe uma correlação entre o tipo de medicamento e a idade do comprador?\n",
    "    Existe uma correlação entre o gênero do comprador e o tipo de medicamento?\n",
    "\n",
    "3. Visualização de Dados:\n",
    "* Gráficos de barras para mostrar as vendas por estado, por medicamento e por gênero.\n",
    "* Histogramas para distribuição de idade.\n",
    "* Heatmaps para correlações.\n",
    "* Gráficos de linha para tendências de vendas ao longo dos meses.\n",
    "\n",
    "4. Insights e Recomendações:\n",
    "* Com base na EDA, identifique insights interessantes sobre os hábitos de compra e padrões.\n",
    "* Formule recomendações para farmácias ou empresas farmacêuticas com base nas tendências observadas."
   ]
  },
  {
   "cell_type": "markdown",
   "metadata": {
    "id": "aiFYjd7ihbR3"
   },
   "source": [
    "# Importando base e bibliotecas"
   ]
  },
  {
   "cell_type": "code",
   "execution_count": 1,
   "metadata": {
    "colab": {
     "base_uri": "https://localhost:8080/"
    },
    "id": "y74eYx0Bcv-H",
    "outputId": "d70f0718-2c46-46af-8d4c-57ebea6de96a"
   },
   "outputs": [],
   "source": [
    "# from google.colab import drive\n",
    "import pandas as pd\n",
    "import matplotlib.pyplot as plt\n",
    "import seaborn as sns\n",
    "from sklearn.preprocessing import OneHotEncoder\n",
    "\n",
    "    # drive.mount('/content/drive')"
   ]
  },
  {
   "cell_type": "code",
   "execution_count": 2,
   "metadata": {
    "colab": {
     "base_uri": "https://localhost:8080/"
    },
    "id": "L3RkaZxQdXBM",
    "outputId": "a8af56b7-1a2e-4c3d-e94f-b89ff8826350"
   },
   "outputs": [],
   "source": [
    "# %cd '/content/drive/My Drive/Colab Notebooks/med_ind_2021_11/EDA_Industrializados_202111.csv'"
   ]
  },
  {
   "cell_type": "code",
   "execution_count": 6,
   "metadata": {
    "id": "owhR3JOodnqy"
   },
   "outputs": [],
   "source": [
    "# df = pd.read_csv('/content/drive/My Drive/Colab Notebooks/med_ind_2021_11/EDA_Industrializados_202111.csv', encoding='latin1', delimiter=';')\n",
    "# df = pd.read_csv('data/EDA_Industrializados_202111.csv', encoding='latin1', delimiter=';')\n",
    "df = pd.read_csv('data/EDA_Industrializados_202111_sample.csv', encoding='latin1', delimiter=',')\n",
    "\n"
   ]
  },
  {
   "cell_type": "code",
   "execution_count": 7,
   "metadata": {
    "colab": {
     "base_uri": "https://localhost:8080/",
     "height": 704
    },
    "id": "CYV2YE2gdwI6",
    "outputId": "9977c45c-0aaf-4700-80fc-479b74b26bcc"
   },
   "outputs": [
    {
     "data": {
      "text/html": [
       "<div>\n",
       "<style scoped>\n",
       "    .dataframe tbody tr th:only-of-type {\n",
       "        vertical-align: middle;\n",
       "    }\n",
       "\n",
       "    .dataframe tbody tr th {\n",
       "        vertical-align: top;\n",
       "    }\n",
       "\n",
       "    .dataframe thead th {\n",
       "        text-align: right;\n",
       "    }\n",
       "</style>\n",
       "<table border=\"1\" class=\"dataframe\">\n",
       "  <thead>\n",
       "    <tr style=\"text-align: right;\">\n",
       "      <th></th>\n",
       "      <th>Unnamed: 0</th>\n",
       "      <th>ANO_VENDA</th>\n",
       "      <th>MES_VENDA</th>\n",
       "      <th>UF_VENDA</th>\n",
       "      <th>MUNICIPIO_VENDA</th>\n",
       "      <th>PRINCIPIO_ATIVO</th>\n",
       "      <th>DESCRICAO_APRESENTACAO</th>\n",
       "      <th>QTD_VENDIDA</th>\n",
       "      <th>UNIDADE_MEDIDA</th>\n",
       "      <th>CONSELHO_PRESCRITOR</th>\n",
       "      <th>UF_CONSELHO_PRESCRITOR</th>\n",
       "      <th>TIPO_RECEITUARIO</th>\n",
       "      <th>CID10</th>\n",
       "      <th>SEXO</th>\n",
       "      <th>IDADE</th>\n",
       "      <th>UNIDADE_IDADE</th>\n",
       "    </tr>\n",
       "  </thead>\n",
       "  <tbody>\n",
       "    <tr>\n",
       "      <th>0</th>\n",
       "      <td>5310</td>\n",
       "      <td>2021</td>\n",
       "      <td>11</td>\n",
       "      <td>CE</td>\n",
       "      <td>FORTALEZA</td>\n",
       "      <td>OXCARBAZEPINA</td>\n",
       "      <td>300 MG COM REV CT BL AL AL X 30</td>\n",
       "      <td>3</td>\n",
       "      <td>CAIXA</td>\n",
       "      <td>CRM</td>\n",
       "      <td>CE</td>\n",
       "      <td>1.0</td>\n",
       "      <td>NaN</td>\n",
       "      <td>NaN</td>\n",
       "      <td>NaN</td>\n",
       "      <td>NaN</td>\n",
       "    </tr>\n",
       "    <tr>\n",
       "      <th>1</th>\n",
       "      <td>3356</td>\n",
       "      <td>2021</td>\n",
       "      <td>11</td>\n",
       "      <td>RJ</td>\n",
       "      <td>RIO DE JANEIRO</td>\n",
       "      <td>CLORIDRATO DE MOXIFLOXACINO</td>\n",
       "      <td>5 MG/ML SOL OFT CT FR PLAS TRANS GOT X 5 ML</td>\n",
       "      <td>1</td>\n",
       "      <td>CAIXA</td>\n",
       "      <td>CRM</td>\n",
       "      <td>RJ</td>\n",
       "      <td>5.0</td>\n",
       "      <td>NaN</td>\n",
       "      <td>2.0</td>\n",
       "      <td>50.0</td>\n",
       "      <td>1.0</td>\n",
       "    </tr>\n",
       "    <tr>\n",
       "      <th>2</th>\n",
       "      <td>137131</td>\n",
       "      <td>2021</td>\n",
       "      <td>11</td>\n",
       "      <td>RJ</td>\n",
       "      <td>RIO DE JANEIRO</td>\n",
       "      <td>SULFADIAZINA DE PRATA</td>\n",
       "      <td>10 MG / G CREM DERM CT BG AL REV X 50 GÂ Â</td>\n",
       "      <td>2</td>\n",
       "      <td>CAIXA</td>\n",
       "      <td>CRM</td>\n",
       "      <td>RJ</td>\n",
       "      <td>5.0</td>\n",
       "      <td>NaN</td>\n",
       "      <td>2.0</td>\n",
       "      <td>75.0</td>\n",
       "      <td>1.0</td>\n",
       "    </tr>\n",
       "    <tr>\n",
       "      <th>3</th>\n",
       "      <td>202348</td>\n",
       "      <td>2021</td>\n",
       "      <td>11</td>\n",
       "      <td>PR</td>\n",
       "      <td>ROLÃNDIA</td>\n",
       "      <td>ALPRAZOLAM</td>\n",
       "      <td>2 MG COM CT BL AL PLAS INC X 30</td>\n",
       "      <td>4</td>\n",
       "      <td>FRASCO</td>\n",
       "      <td>CRM</td>\n",
       "      <td>PR</td>\n",
       "      <td>2.0</td>\n",
       "      <td>NaN</td>\n",
       "      <td>NaN</td>\n",
       "      <td>NaN</td>\n",
       "      <td>NaN</td>\n",
       "    </tr>\n",
       "    <tr>\n",
       "      <th>4</th>\n",
       "      <td>152609</td>\n",
       "      <td>2021</td>\n",
       "      <td>11</td>\n",
       "      <td>RJ</td>\n",
       "      <td>SÃO GONÃALO</td>\n",
       "      <td>AMOXICILINA + CLAVULANATO DE POTÃSSIO</td>\n",
       "      <td>(500+125) MG COM REV CT STR AL/AL X 18</td>\n",
       "      <td>2</td>\n",
       "      <td>CAIXA</td>\n",
       "      <td>CRM</td>\n",
       "      <td>RJ</td>\n",
       "      <td>5.0</td>\n",
       "      <td>NaN</td>\n",
       "      <td>1.0</td>\n",
       "      <td>23.0</td>\n",
       "      <td>1.0</td>\n",
       "    </tr>\n",
       "    <tr>\n",
       "      <th>...</th>\n",
       "      <td>...</td>\n",
       "      <td>...</td>\n",
       "      <td>...</td>\n",
       "      <td>...</td>\n",
       "      <td>...</td>\n",
       "      <td>...</td>\n",
       "      <td>...</td>\n",
       "      <td>...</td>\n",
       "      <td>...</td>\n",
       "      <td>...</td>\n",
       "      <td>...</td>\n",
       "      <td>...</td>\n",
       "      <td>...</td>\n",
       "      <td>...</td>\n",
       "      <td>...</td>\n",
       "      <td>...</td>\n",
       "    </tr>\n",
       "    <tr>\n",
       "      <th>199995</th>\n",
       "      <td>125609</td>\n",
       "      <td>2021</td>\n",
       "      <td>11</td>\n",
       "      <td>MG</td>\n",
       "      <td>SENADOR MODESTINO GONÃALVES</td>\n",
       "      <td>CLONAZEPAM</td>\n",
       "      <td>2,5 MG/ML SOL OR CT FR PET AMB GOT X 20 ML</td>\n",
       "      <td>2</td>\n",
       "      <td>CAIXA</td>\n",
       "      <td>CRM</td>\n",
       "      <td>MG</td>\n",
       "      <td>2.0</td>\n",
       "      <td>NaN</td>\n",
       "      <td>NaN</td>\n",
       "      <td>NaN</td>\n",
       "      <td>NaN</td>\n",
       "    </tr>\n",
       "    <tr>\n",
       "      <th>199996</th>\n",
       "      <td>164823</td>\n",
       "      <td>2021</td>\n",
       "      <td>11</td>\n",
       "      <td>RJ</td>\n",
       "      <td>SÃO GONÃALO</td>\n",
       "      <td>CLONAZEPAM</td>\n",
       "      <td>2,5 MG/ML SOL OR CT FR GOT VD AMB X 20 ML</td>\n",
       "      <td>3</td>\n",
       "      <td>FRASCO</td>\n",
       "      <td>CRM</td>\n",
       "      <td>RJ</td>\n",
       "      <td>1.0</td>\n",
       "      <td>NaN</td>\n",
       "      <td>NaN</td>\n",
       "      <td>NaN</td>\n",
       "      <td>NaN</td>\n",
       "    </tr>\n",
       "    <tr>\n",
       "      <th>199997</th>\n",
       "      <td>176110</td>\n",
       "      <td>2021</td>\n",
       "      <td>11</td>\n",
       "      <td>RJ</td>\n",
       "      <td>PARATY</td>\n",
       "      <td>CELECOXIBE</td>\n",
       "      <td>200 MG CAP DURA CT BL AL PLAS TRANS X 15</td>\n",
       "      <td>2</td>\n",
       "      <td>CAIXA</td>\n",
       "      <td>CRM</td>\n",
       "      <td>RJ</td>\n",
       "      <td>1.0</td>\n",
       "      <td>NaN</td>\n",
       "      <td>NaN</td>\n",
       "      <td>NaN</td>\n",
       "      <td>NaN</td>\n",
       "    </tr>\n",
       "    <tr>\n",
       "      <th>199998</th>\n",
       "      <td>121939</td>\n",
       "      <td>2021</td>\n",
       "      <td>11</td>\n",
       "      <td>PA</td>\n",
       "      <td>ALTAMIRA</td>\n",
       "      <td>LEVOFLOXACINO</td>\n",
       "      <td>750 MG COM REV CT BL AL PLAS INC X 7</td>\n",
       "      <td>1</td>\n",
       "      <td>CAIXA</td>\n",
       "      <td>CRM</td>\n",
       "      <td>PA</td>\n",
       "      <td>5.0</td>\n",
       "      <td>NaN</td>\n",
       "      <td>2.0</td>\n",
       "      <td>50.0</td>\n",
       "      <td>1.0</td>\n",
       "    </tr>\n",
       "    <tr>\n",
       "      <th>199999</th>\n",
       "      <td>143233</td>\n",
       "      <td>2021</td>\n",
       "      <td>11</td>\n",
       "      <td>PA</td>\n",
       "      <td>ANANINDEUA</td>\n",
       "      <td>CLORIDRATO DE CIPROFLOXACINO MONOIDRATADO</td>\n",
       "      <td>500 MG COM REV CT BL AL PLAS TRANS X 14</td>\n",
       "      <td>1</td>\n",
       "      <td>CAIXA</td>\n",
       "      <td>CRM</td>\n",
       "      <td>PA</td>\n",
       "      <td>5.0</td>\n",
       "      <td>NaN</td>\n",
       "      <td>2.0</td>\n",
       "      <td>70.0</td>\n",
       "      <td>1.0</td>\n",
       "    </tr>\n",
       "  </tbody>\n",
       "</table>\n",
       "<p>200000 rows × 16 columns</p>\n",
       "</div>"
      ],
      "text/plain": [
       "        Unnamed: 0  ANO_VENDA  MES_VENDA UF_VENDA  \\\n",
       "0             5310       2021         11       CE   \n",
       "1             3356       2021         11       RJ   \n",
       "2           137131       2021         11       RJ   \n",
       "3           202348       2021         11       PR   \n",
       "4           152609       2021         11       RJ   \n",
       "...            ...        ...        ...      ...   \n",
       "199995      125609       2021         11       MG   \n",
       "199996      164823       2021         11       RJ   \n",
       "199997      176110       2021         11       RJ   \n",
       "199998      121939       2021         11       PA   \n",
       "199999      143233       2021         11       PA   \n",
       "\n",
       "                     MUNICIPIO_VENDA  \\\n",
       "0                          FORTALEZA   \n",
       "1                     RIO DE JANEIRO   \n",
       "2                     RIO DE JANEIRO   \n",
       "3                          ROLÃNDIA   \n",
       "4                      SÃO GONÃALO   \n",
       "...                              ...   \n",
       "199995  SENADOR MODESTINO GONÃALVES   \n",
       "199996                 SÃO GONÃALO   \n",
       "199997                        PARATY   \n",
       "199998                      ALTAMIRA   \n",
       "199999                    ANANINDEUA   \n",
       "\n",
       "                                  PRINCIPIO_ATIVO  \\\n",
       "0                                   OXCARBAZEPINA   \n",
       "1                     CLORIDRATO DE MOXIFLOXACINO   \n",
       "2                           SULFADIAZINA DE PRATA   \n",
       "3                                      ALPRAZOLAM   \n",
       "4          AMOXICILINA + CLAVULANATO DE POTÃSSIO   \n",
       "...                                           ...   \n",
       "199995                                 CLONAZEPAM   \n",
       "199996                                 CLONAZEPAM   \n",
       "199997                                 CELECOXIBE   \n",
       "199998                              LEVOFLOXACINO   \n",
       "199999  CLORIDRATO DE CIPROFLOXACINO MONOIDRATADO   \n",
       "\n",
       "                             DESCRICAO_APRESENTACAO  QTD_VENDIDA  \\\n",
       "0                   300 MG COM REV CT BL AL AL X 30            3   \n",
       "1       5 MG/ML SOL OFT CT FR PLAS TRANS GOT X 5 ML            1   \n",
       "2       10 MG / G CREM DERM CT BG AL REV X 50 GÂ Â             2   \n",
       "3                   2 MG COM CT BL AL PLAS INC X 30            4   \n",
       "4            (500+125) MG COM REV CT STR AL/AL X 18            2   \n",
       "...                                             ...          ...   \n",
       "199995   2,5 MG/ML SOL OR CT FR PET AMB GOT X 20 ML            2   \n",
       "199996    2,5 MG/ML SOL OR CT FR GOT VD AMB X 20 ML            3   \n",
       "199997     200 MG CAP DURA CT BL AL PLAS TRANS X 15            2   \n",
       "199998         750 MG COM REV CT BL AL PLAS INC X 7            1   \n",
       "199999      500 MG COM REV CT BL AL PLAS TRANS X 14            1   \n",
       "\n",
       "       UNIDADE_MEDIDA CONSELHO_PRESCRITOR UF_CONSELHO_PRESCRITOR  \\\n",
       "0               CAIXA                 CRM                     CE   \n",
       "1               CAIXA                 CRM                     RJ   \n",
       "2               CAIXA                 CRM                     RJ   \n",
       "3              FRASCO                 CRM                     PR   \n",
       "4               CAIXA                 CRM                     RJ   \n",
       "...               ...                 ...                    ...   \n",
       "199995          CAIXA                 CRM                     MG   \n",
       "199996         FRASCO                 CRM                     RJ   \n",
       "199997          CAIXA                 CRM                     RJ   \n",
       "199998          CAIXA                 CRM                     PA   \n",
       "199999          CAIXA                 CRM                     PA   \n",
       "\n",
       "        TIPO_RECEITUARIO CID10  SEXO  IDADE  UNIDADE_IDADE  \n",
       "0                    1.0   NaN   NaN    NaN            NaN  \n",
       "1                    5.0   NaN   2.0   50.0            1.0  \n",
       "2                    5.0   NaN   2.0   75.0            1.0  \n",
       "3                    2.0   NaN   NaN    NaN            NaN  \n",
       "4                    5.0   NaN   1.0   23.0            1.0  \n",
       "...                  ...   ...   ...    ...            ...  \n",
       "199995               2.0   NaN   NaN    NaN            NaN  \n",
       "199996               1.0   NaN   NaN    NaN            NaN  \n",
       "199997               1.0   NaN   NaN    NaN            NaN  \n",
       "199998               5.0   NaN   2.0   50.0            1.0  \n",
       "199999               5.0   NaN   2.0   70.0            1.0  \n",
       "\n",
       "[200000 rows x 16 columns]"
      ]
     },
     "metadata": {},
     "output_type": "display_data"
    }
   ],
   "source": [
    "display(df)"
   ]
  },
  {
   "cell_type": "markdown",
   "metadata": {
    "id": "B4zfZZmyizqU"
   },
   "source": [
    "# Dicionário de Dados\n",
    "\n",
    "* ANO_VENDA: Ano da venda do medicamento.\n",
    "* MES_VENDA: Mês da venda do medicamento.\n",
    "* UF_VENDA: Unidade Federativa do endereço da farmácia ou drogaria, cadastrado no banco de dados da Anvisa, representando a UF onde ocorreu a venda.\n",
    "* MUNICIPIO_VENDA: Município do endereço da farmácia ou drogaria, cadastrado no banco de dados da Anvisa, representando o Município onde ocorreu a venda.\n",
    "* PRINCIPIO_ATIVO: Nome do princípio ativo do medicamento industrializado, conforme cadastrado no registro do medicamento, no banco de dados da Anvisa. Quando um medicamento tem mais de um princípio ativo, cada\n",
    "um deles é separado pelo caractere “+”.\n",
    "* DESCRICAO_APRESENTACAO: Uma Apresentação de Medicamento representa O modo como um medicamento é apresentado na embalagem.\n",
    "* QTD_VENDIDA: Quantidade vendida de caixas ou frascos do medicamento.\n",
    "* UNIDADE_MEDIDA: Indica se a quantidade vendida do medicamento foi de caixas ou frascos.\n",
    "* CONSELHO_PRESCRITOR: Conselho de Classe do profissional que prescreveu o medicamento vendido.\n",
    "* UF_CONSELHO_PRESCRITOR: Unidade Federativa do Conselho de Classe do profissional que prescreveu o medicamento vendido.\n",
    "* TIPO_RECEITUARIO: Tipo de receituário utilizado na prescrição. Valores e respectivos tipos de receituário:\n",
    "(1) Receita de Controle Especial em 2 vias (Receita Branca);\n",
    "(2) Notificação de Receita B (Notificação Azul);\n",
    "(3) Notificação de Receita Especial (Notificação Branca);\n",
    "(4) Notificação de Receita A (Notificação Amarela);\n",
    "(5) Receita Antimicrobiano em 2 vias.\n",
    "* CID10: Classificação Internacional de Doença (aplicável apenas a medicamentos antimicrobianos).\n",
    "* SEXO: Sexo do paciente (aplicável apenas a medicamentos\n",
    "antimicrobianos). (1) sexo masculino, (2) sexo feminino.\n",
    "* IDADE: Valor numérico que representa a idade do paciente, em meses ou anos (aplicável apenas a medicamentos antimicrobianos).\n",
    "* UNIDADE_IDADE: Unidade de medida da idade do paciente, que pode ser em meses ou anos (aplicável apenas a medicamentos\n",
    "antimicrobianos). (1) unidade de medida em anos,\n",
    "(2) unidade de medida em meses."
   ]
  },
  {
   "cell_type": "markdown",
   "metadata": {
    "id": "AIVlLAY3haHd"
   },
   "source": [
    "# Análise Exploratória dos Dados"
   ]
  },
  {
   "cell_type": "code",
   "execution_count": 8,
   "metadata": {
    "colab": {
     "base_uri": "https://localhost:8080/"
    },
    "id": "lCljolLmhZ8H",
    "outputId": "032c8a6f-e94a-4ee7-e809-eda5d5659899"
   },
   "outputs": [
    {
     "data": {
      "text/plain": [
       "(200000, 16)"
      ]
     },
     "execution_count": 8,
     "metadata": {},
     "output_type": "execute_result"
    }
   ],
   "source": [
    "df.shape"
   ]
  },
  {
   "cell_type": "code",
   "execution_count": 9,
   "metadata": {
    "colab": {
     "base_uri": "https://localhost:8080/"
    },
    "id": "ge4zzOdbhZ5h",
    "outputId": "f8aad6c9-aa2a-4b44-fda4-e674ab72cfe1"
   },
   "outputs": [
    {
     "data": {
      "text/plain": [
       "Unnamed: 0                  int64\n",
       "ANO_VENDA                   int64\n",
       "MES_VENDA                   int64\n",
       "UF_VENDA                   object\n",
       "MUNICIPIO_VENDA            object\n",
       "PRINCIPIO_ATIVO            object\n",
       "DESCRICAO_APRESENTACAO     object\n",
       "QTD_VENDIDA                 int64\n",
       "UNIDADE_MEDIDA             object\n",
       "CONSELHO_PRESCRITOR        object\n",
       "UF_CONSELHO_PRESCRITOR     object\n",
       "TIPO_RECEITUARIO          float64\n",
       "CID10                      object\n",
       "SEXO                      float64\n",
       "IDADE                     float64\n",
       "UNIDADE_IDADE             float64\n",
       "dtype: object"
      ]
     },
     "execution_count": 9,
     "metadata": {},
     "output_type": "execute_result"
    }
   ],
   "source": [
    "# Tipos das colunas\n",
    "df.dtypes"
   ]
  },
  {
   "cell_type": "code",
   "execution_count": 10,
   "metadata": {
    "colab": {
     "base_uri": "https://localhost:8080/"
    },
    "id": "PQ8aSPbUhZ2_",
    "outputId": "dc07fc9c-8ee5-414a-8c78-9c1e57c49e1d"
   },
   "outputs": [
    {
     "data": {
      "text/plain": [
       "Unnamed: 0                     0\n",
       "ANO_VENDA                      0\n",
       "MES_VENDA                      0\n",
       "UF_VENDA                       0\n",
       "MUNICIPIO_VENDA                0\n",
       "PRINCIPIO_ATIVO              381\n",
       "DESCRICAO_APRESENTACAO         0\n",
       "QTD_VENDIDA                    0\n",
       "UNIDADE_MEDIDA                 0\n",
       "CONSELHO_PRESCRITOR            0\n",
       "UF_CONSELHO_PRESCRITOR         0\n",
       "TIPO_RECEITUARIO               0\n",
       "CID10                     199796\n",
       "SEXO                       68884\n",
       "IDADE                      68884\n",
       "UNIDADE_IDADE              68884\n",
       "dtype: int64"
      ]
     },
     "execution_count": 10,
     "metadata": {},
     "output_type": "execute_result"
    }
   ],
   "source": [
    "# Valores nulos\n",
    "df.isnull().sum()"
   ]
  },
  {
   "cell_type": "code",
   "execution_count": 11,
   "metadata": {
    "colab": {
     "base_uri": "https://localhost:8080/"
    },
    "id": "ZHt1643EkPbx",
    "outputId": "45967b17-26db-4c3b-842b-62b4bb75345c"
   },
   "outputs": [
    {
     "data": {
      "text/html": [
       "<div>\n",
       "<style scoped>\n",
       "    .dataframe tbody tr th:only-of-type {\n",
       "        vertical-align: middle;\n",
       "    }\n",
       "\n",
       "    .dataframe tbody tr th {\n",
       "        vertical-align: top;\n",
       "    }\n",
       "\n",
       "    .dataframe thead th {\n",
       "        text-align: right;\n",
       "    }\n",
       "</style>\n",
       "<table border=\"1\" class=\"dataframe\">\n",
       "  <thead>\n",
       "    <tr style=\"text-align: right;\">\n",
       "      <th></th>\n",
       "      <th>Unnamed: 0</th>\n",
       "      <th>ANO_VENDA</th>\n",
       "      <th>MES_VENDA</th>\n",
       "      <th>QTD_VENDIDA</th>\n",
       "      <th>TIPO_RECEITUARIO</th>\n",
       "      <th>SEXO</th>\n",
       "      <th>IDADE</th>\n",
       "      <th>UNIDADE_IDADE</th>\n",
       "    </tr>\n",
       "  </thead>\n",
       "  <tbody>\n",
       "    <tr>\n",
       "      <th>count</th>\n",
       "      <td>200000.000000</td>\n",
       "      <td>200000.0</td>\n",
       "      <td>200000.0</td>\n",
       "      <td>200000.00000</td>\n",
       "      <td>200000.000000</td>\n",
       "      <td>131116.000000</td>\n",
       "      <td>131116.000000</td>\n",
       "      <td>131116.00000</td>\n",
       "    </tr>\n",
       "    <tr>\n",
       "      <th>mean</th>\n",
       "      <td>102361.238380</td>\n",
       "      <td>2021.0</td>\n",
       "      <td>11.0</td>\n",
       "      <td>4.04790</td>\n",
       "      <td>3.386975</td>\n",
       "      <td>1.548865</td>\n",
       "      <td>40.155870</td>\n",
       "      <td>1.01806</td>\n",
       "    </tr>\n",
       "    <tr>\n",
       "      <th>std</th>\n",
       "      <td>59095.482192</td>\n",
       "      <td>0.0</td>\n",
       "      <td>0.0</td>\n",
       "      <td>28.88496</td>\n",
       "      <td>1.851135</td>\n",
       "      <td>0.497608</td>\n",
       "      <td>39.314272</td>\n",
       "      <td>0.13317</td>\n",
       "    </tr>\n",
       "    <tr>\n",
       "      <th>min</th>\n",
       "      <td>0.000000</td>\n",
       "      <td>2021.0</td>\n",
       "      <td>11.0</td>\n",
       "      <td>1.00000</td>\n",
       "      <td>1.000000</td>\n",
       "      <td>1.000000</td>\n",
       "      <td>0.000000</td>\n",
       "      <td>1.00000</td>\n",
       "    </tr>\n",
       "    <tr>\n",
       "      <th>25%</th>\n",
       "      <td>51211.750000</td>\n",
       "      <td>2021.0</td>\n",
       "      <td>11.0</td>\n",
       "      <td>1.00000</td>\n",
       "      <td>1.000000</td>\n",
       "      <td>1.000000</td>\n",
       "      <td>25.000000</td>\n",
       "      <td>1.00000</td>\n",
       "    </tr>\n",
       "    <tr>\n",
       "      <th>50%</th>\n",
       "      <td>102346.500000</td>\n",
       "      <td>2021.0</td>\n",
       "      <td>11.0</td>\n",
       "      <td>1.00000</td>\n",
       "      <td>5.000000</td>\n",
       "      <td>2.000000</td>\n",
       "      <td>39.000000</td>\n",
       "      <td>1.00000</td>\n",
       "    </tr>\n",
       "    <tr>\n",
       "      <th>75%</th>\n",
       "      <td>153517.250000</td>\n",
       "      <td>2021.0</td>\n",
       "      <td>11.0</td>\n",
       "      <td>3.00000</td>\n",
       "      <td>5.000000</td>\n",
       "      <td>2.000000</td>\n",
       "      <td>55.000000</td>\n",
       "      <td>1.00000</td>\n",
       "    </tr>\n",
       "    <tr>\n",
       "      <th>max</th>\n",
       "      <td>204750.000000</td>\n",
       "      <td>2021.0</td>\n",
       "      <td>11.0</td>\n",
       "      <td>4706.00000</td>\n",
       "      <td>5.000000</td>\n",
       "      <td>2.000000</td>\n",
       "      <td>999.000000</td>\n",
       "      <td>2.00000</td>\n",
       "    </tr>\n",
       "  </tbody>\n",
       "</table>\n",
       "</div>"
      ],
      "text/plain": [
       "          Unnamed: 0  ANO_VENDA  MES_VENDA   QTD_VENDIDA  TIPO_RECEITUARIO  \\\n",
       "count  200000.000000   200000.0   200000.0  200000.00000     200000.000000   \n",
       "mean   102361.238380     2021.0       11.0       4.04790          3.386975   \n",
       "std     59095.482192        0.0        0.0      28.88496          1.851135   \n",
       "min         0.000000     2021.0       11.0       1.00000          1.000000   \n",
       "25%     51211.750000     2021.0       11.0       1.00000          1.000000   \n",
       "50%    102346.500000     2021.0       11.0       1.00000          5.000000   \n",
       "75%    153517.250000     2021.0       11.0       3.00000          5.000000   \n",
       "max    204750.000000     2021.0       11.0    4706.00000          5.000000   \n",
       "\n",
       "                SEXO          IDADE  UNIDADE_IDADE  \n",
       "count  131116.000000  131116.000000   131116.00000  \n",
       "mean        1.548865      40.155870        1.01806  \n",
       "std         0.497608      39.314272        0.13317  \n",
       "min         1.000000       0.000000        1.00000  \n",
       "25%         1.000000      25.000000        1.00000  \n",
       "50%         2.000000      39.000000        1.00000  \n",
       "75%         2.000000      55.000000        1.00000  \n",
       "max         2.000000     999.000000        2.00000  "
      ]
     },
     "execution_count": 11,
     "metadata": {},
     "output_type": "execute_result"
    }
   ],
   "source": [
    "df.describe()"
   ]
  },
  {
   "cell_type": "code",
   "execution_count": 12,
   "metadata": {
    "id": "Gh4-Sz92ko5o"
   },
   "outputs": [],
   "source": [
    "df_new = df.copy()"
   ]
  },
  {
   "cell_type": "markdown",
   "metadata": {
    "id": "4QT6RsZ_hvw3"
   },
   "source": [
    "# Tratamento dos Dados\n",
    "\n",
    "## Nulos\n",
    "* CID10: Aplicado apenas para medicamentos antimicrobianos. Conclusão: Retirar coluna do CID10.\n",
    "* Princípio Ativo dá para ver o que fazer. Conclusão: Imputar \"Não informado\".\n",
    "* Sexo, Idade, Unidade_Idade são campos preenchidos apenas quando medicamentos antimicrobianos. Imputar 0 neles.\n",
    "\n",
    "## Tipos\n",
    "* SEXO, TIPO_RECEITUARIO e UNIDADE_MEDIDA estão como float, deveriam ser int\n",
    "* ANO_VENDA e MES_VENDA estão como int, inserir como date. Apesar de que não será realizada nenhuma comparação no momento...\n",
    "\n",
    "## Outliers\n",
    "* IDADE: Analisar boxplot separando pela UNIDADE_MEDIDA\n",
    "* QTD_VENDIDA: Analisar boxplot\n",
    "\n"
   ]
  },
  {
   "cell_type": "markdown",
   "metadata": {
    "id": "DdHIWmb0p72X"
   },
   "source": [
    "## Tratamento Valores Nulos e Tipos de colunas"
   ]
  },
  {
   "cell_type": "code",
   "execution_count": 13,
   "metadata": {
    "id": "8a_YtQEZhZ0J"
   },
   "outputs": [],
   "source": [
    "# Retirando coluna CID10\n",
    "df_new = df_new.drop('CID10', axis=1)\n",
    "\n",
    "# Imputando valores\n",
    "df_new['SEXO'].fillna(0, inplace=True)\n",
    "df_new['IDADE'].fillna(0, inplace=True)\n",
    "df_new['TIPO_RECEITUARIO'].fillna(0, inplace=True)\n",
    "df_new['UNIDADE_IDADE'].fillna(0, inplace=True)\n",
    "df_new['PRINCIPIO_ATIVO'].fillna('INDEFINIDO', inplace=True)\n",
    "\n",
    "\n",
    "# Tratando tipo de colunas\n",
    "df_new['SEXO'] = df_new['SEXO'].astype(int)\n",
    "df_new['UNIDADE_IDADE'] = df_new['UNIDADE_IDADE'].astype(int)\n",
    "df_new['TIPO_RECEITUARIO'] = df_new['TIPO_RECEITUARIO'].astype(int)\n",
    "df_new['IDADE'] = df_new['IDADE'].astype(int)\n",
    "\n",
    "df_new['ANO_VENDA'] = pd.to_datetime(df_new['ANO_VENDA'], format='%Y')\n",
    "df_new['ANO_VENDA'] = df_new['ANO_VENDA'].dt.year\n",
    "df_new['MES_VENDA'] = pd.to_datetime(df_new['MES_VENDA'], format='%m')\n",
    "df_new['MES_VENDA'] = df_new['MES_VENDA'].dt.month"
   ]
  },
  {
   "cell_type": "markdown",
   "metadata": {
    "id": "CK3KrNMMlcjX"
   },
   "source": [
    "## Outliers Idade"
   ]
  },
  {
   "cell_type": "code",
   "execution_count": 14,
   "metadata": {
    "colab": {
     "base_uri": "https://localhost:8080/"
    },
    "id": "neFxlHbYny4r",
    "outputId": "02c303f8-e427-4c7e-8316-c70d02cc1315"
   },
   "outputs": [
    {
     "data": {
      "image/png": "[encoded data removed]",
      "text/plain": [
       "<Figure size 800x600 with 1 Axes>"
      ]
     },
     "metadata": {},
     "output_type": "display_data"
    }
   ],
   "source": [
    "plt.figure(figsize=(8, 6))  # Define o tamanho da figura (opcional)\n",
    "plt.boxplot(df_new['IDADE'])\n",
    "plt.title('Boxplot da Idade')\n",
    "plt.ylabel('Idade')\n",
    "plt.show()"
   ]
  },
  {
   "cell_type": "code",
   "execution_count": 15,
   "metadata": {
    "colab": {
     "base_uri": "https://localhost:8080/"
    },
    "id": "FFzgWgKYhZh-",
    "outputId": "b7c61f4a-328f-4f64-bc24-51c3f4213188"
   },
   "outputs": [
    {
     "data": {
      "text/plain": [
       "1    128748\n",
       "Name: UNIDADE_IDADE, dtype: int64"
      ]
     },
     "execution_count": 15,
     "metadata": {},
     "output_type": "execute_result"
    }
   ],
   "source": [
    "# UNIDADE_IDADE = Anos\n",
    "out_idade = df_new[df_new['UNIDADE_IDADE'] == 1]\n",
    "out_idade['UNIDADE_IDADE'].value_counts()"
   ]
  },
  {
   "cell_type": "code",
   "execution_count": 16,
   "metadata": {
    "colab": {
     "base_uri": "https://localhost:8080/"
    },
    "id": "E4-vZCXvhZVr",
    "outputId": "c3c0094e-6832-4bc2-c3f8-23d3df401123"
   },
   "outputs": [
    {
     "data": {
      "image/png": "[encoded data removed]",
      "text/plain": [
       "<Figure size 800x600 with 1 Axes>"
      ]
     },
     "metadata": {},
     "output_type": "display_data"
    }
   ],
   "source": [
    "plt.figure(figsize=(8, 6))  # Define o tamanho da figura (opcional)\n",
    "plt.boxplot(out_idade['IDADE'])\n",
    "plt.title('Boxplot da Idade')\n",
    "plt.ylabel('Idade')\n",
    "plt.show()"
   ]
  },
  {
   "cell_type": "code",
   "execution_count": 17,
   "metadata": {
    "colab": {
     "base_uri": "https://localhost:8080/"
    },
    "id": "7RDOOVfblzoa",
    "outputId": "1bcc3e3b-28c3-40a5-b88c-48620a591953"
   },
   "outputs": [
    {
     "data": {
      "text/plain": [
       "2    2368\n",
       "Name: UNIDADE_IDADE, dtype: int64"
      ]
     },
     "execution_count": 17,
     "metadata": {},
     "output_type": "execute_result"
    }
   ],
   "source": [
    "# UNIDADE_IDADE = Meses\n",
    "out_idade = df_new[df_new['UNIDADE_IDADE'] == 2]\n",
    "out_idade['UNIDADE_IDADE'].value_counts()"
   ]
  },
  {
   "cell_type": "code",
   "execution_count": 18,
   "metadata": {
    "colab": {
     "base_uri": "https://localhost:8080/"
    },
    "id": "udfAnEYXmqGz",
    "outputId": "e54a5ed6-47c6-4089-831e-084a04a4900a"
   },
   "outputs": [
    {
     "data": {
      "image/png": "[encoded data removed]",
      "text/plain": [
       "<Figure size 800x600 with 1 Axes>"
      ]
     },
     "metadata": {},
     "output_type": "display_data"
    }
   ],
   "source": [
    "plt.figure(figsize=(8, 6))  # Define o tamanho da figura (opcional)\n",
    "plt.boxplot(out_idade['IDADE'])\n",
    "plt.title('Boxplot da Idade')\n",
    "plt.ylabel('Idade')\n",
    "plt.show()"
   ]
  },
  {
   "cell_type": "code",
   "execution_count": 19,
   "metadata": {
    "colab": {
     "base_uri": "https://localhost:8080/"
    },
    "id": "kwM85FQDmrnu",
    "outputId": "bcf396fb-8dd0-4f6b-c4ab-c4504d2c0136"
   },
   "outputs": [
    {
     "data": {
      "text/plain": [
       "7          6\n",
       "17         1\n",
       "31        20\n",
       "89        63\n",
       "148       41\n",
       "          ..\n",
       "199413     9\n",
       "199415     1\n",
       "199678     8\n",
       "199789     0\n",
       "199905     1\n",
       "Name: IDADE, Length: 2368, dtype: int32"
      ]
     },
     "metadata": {},
     "output_type": "display_data"
    }
   ],
   "source": [
    "out_idade = df_new[df_new['UNIDADE_IDADE'] == 2]\n",
    "display(out_idade['IDADE'])"
   ]
  },
  {
   "cell_type": "code",
   "execution_count": 20,
   "metadata": {
    "id": "euBDZ32_m-KZ"
   },
   "outputs": [],
   "source": [
    "# Calcular o primeiro quartil (Q1) e o terceiro quartil (Q3)\n",
    "Q1 = df_new['IDADE'].quantile(0.25)\n",
    "Q3 = df_new['IDADE'].quantile(0.75)\n",
    "\n",
    "# Calcular o IQR\n",
    "IQR = Q3 - Q1\n",
    "\n",
    "# Calcular o limite superior\n",
    "LS = Q3 + 1.5 * IQR\n",
    "\n",
    "# Filtrar o DataFrame para remover outliers\n",
    "df_filtrado = df_new[df_new['IDADE'] <= LS]"
   ]
  },
  {
   "cell_type": "code",
   "execution_count": 21,
   "metadata": {
    "colab": {
     "base_uri": "https://localhost:8080/",
     "height": 545
    },
    "id": "xyx-1cHxot-V",
    "outputId": "ce2bfddc-0aa4-48c0-f46a-f7f31180ba8e"
   },
   "outputs": [
    {
     "data": {
      "image/png": "[encoded data removed]",
      "text/plain": [
       "<Figure size 800x600 with 1 Axes>"
      ]
     },
     "metadata": {},
     "output_type": "display_data"
    }
   ],
   "source": [
    "plt.figure(figsize=(8, 6))  # Define o tamanho da figura (opcional)\n",
    "plt.boxplot(df_filtrado['IDADE'])\n",
    "plt.title('Boxplot da Idade')\n",
    "plt.ylabel('Idade')\n",
    "plt.show()"
   ]
  },
  {
   "cell_type": "markdown",
   "metadata": {
    "id": "AD9rPOovpvSl"
   },
   "source": [
    "## Outliers QTD_VENDIDA"
   ]
  },
  {
   "cell_type": "code",
   "execution_count": 22,
   "metadata": {
    "colab": {
     "base_uri": "https://localhost:8080/",
     "height": 545
    },
    "id": "sGz4lVlWo_oK",
    "outputId": "11e4e49b-f1ea-47b4-cb1d-7b4f9ac61c4d"
   },
   "outputs": [
    {
     "data": {
      "image/png": "[encoded data removed]",
      "text/plain": [
       "<Figure size 800x600 with 1 Axes>"
      ]
     },
     "metadata": {},
     "output_type": "display_data"
    }
   ],
   "source": [
    "plt.figure(figsize=(8, 6))  # Define o tamanho da figura (opcional)\n",
    "plt.boxplot(df_filtrado['QTD_VENDIDA'])\n",
    "plt.title('Boxplot da QTD_VENDIDA')\n",
    "plt.ylabel('QTD_VENDIDA')\n",
    "plt.show()"
   ]
  },
  {
   "cell_type": "code",
   "execution_count": 23,
   "metadata": {
    "id": "maHqh3j2pDPe"
   },
   "outputs": [],
   "source": [
    "# Calcular o primeiro quartil (Q1) e o terceiro quartil (Q3)\n",
    "Q1 = df_filtrado['QTD_VENDIDA'].quantile(0.25)\n",
    "Q3 = df_filtrado['QTD_VENDIDA'].quantile(0.75)\n",
    "\n",
    "# Calcular o IQR\n",
    "IQR = Q3 - Q1\n",
    "\n",
    "# Calcular o limite superior\n",
    "LS = Q3 + 1.5 * IQR\n",
    "\n",
    "# Filtrar o DataFrame para remover outliers\n",
    "df_filtrado = df_filtrado[df_filtrado['QTD_VENDIDA'] <= LS]"
   ]
  },
  {
   "cell_type": "code",
   "execution_count": 24,
   "metadata": {
    "colab": {
     "base_uri": "https://localhost:8080/",
     "height": 545
    },
    "id": "8sI7sZsWpMyN",
    "outputId": "c52f8499-ee73-4b96-a301-25d7f8e75985"
   },
   "outputs": [
    {
     "data": {
      "image/png": "[encoded data removed]",
      "text/plain": [
       "<Figure size 800x600 with 1 Axes>"
      ]
     },
     "metadata": {},
     "output_type": "display_data"
    }
   ],
   "source": [
    "plt.figure(figsize=(8, 6))  # Define o tamanho da figura (opcional)\n",
    "plt.boxplot(df_filtrado['QTD_VENDIDA'])\n",
    "plt.title('Boxplot da QTD_VENDIDA')\n",
    "plt.ylabel('QTD_VENDIDA')\n",
    "plt.show()"
   ]
  },
  {
   "cell_type": "code",
   "execution_count": 25,
   "metadata": {
    "colab": {
     "base_uri": "https://localhost:8080/",
     "height": 704
    },
    "id": "mkpCobdiqaVz",
    "outputId": "3c197b1a-2829-4b22-8f3b-7d67bb2b4ddb"
   },
   "outputs": [
    {
     "data": {
      "text/html": [
       "<div>\n",
       "<style scoped>\n",
       "    .dataframe tbody tr th:only-of-type {\n",
       "        vertical-align: middle;\n",
       "    }\n",
       "\n",
       "    .dataframe tbody tr th {\n",
       "        vertical-align: top;\n",
       "    }\n",
       "\n",
       "    .dataframe thead th {\n",
       "        text-align: right;\n",
       "    }\n",
       "</style>\n",
       "<table border=\"1\" class=\"dataframe\">\n",
       "  <thead>\n",
       "    <tr style=\"text-align: right;\">\n",
       "      <th></th>\n",
       "      <th>Unnamed: 0</th>\n",
       "      <th>ANO_VENDA</th>\n",
       "      <th>MES_VENDA</th>\n",
       "      <th>UF_VENDA</th>\n",
       "      <th>MUNICIPIO_VENDA</th>\n",
       "      <th>PRINCIPIO_ATIVO</th>\n",
       "      <th>DESCRICAO_APRESENTACAO</th>\n",
       "      <th>QTD_VENDIDA</th>\n",
       "      <th>UNIDADE_MEDIDA</th>\n",
       "      <th>CONSELHO_PRESCRITOR</th>\n",
       "      <th>UF_CONSELHO_PRESCRITOR</th>\n",
       "      <th>TIPO_RECEITUARIO</th>\n",
       "      <th>SEXO</th>\n",
       "      <th>IDADE</th>\n",
       "      <th>UNIDADE_IDADE</th>\n",
       "    </tr>\n",
       "  </thead>\n",
       "  <tbody>\n",
       "    <tr>\n",
       "      <th>0</th>\n",
       "      <td>5310</td>\n",
       "      <td>2021</td>\n",
       "      <td>11</td>\n",
       "      <td>CE</td>\n",
       "      <td>FORTALEZA</td>\n",
       "      <td>OXCARBAZEPINA</td>\n",
       "      <td>300 MG COM REV CT BL AL AL X 30</td>\n",
       "      <td>3</td>\n",
       "      <td>CAIXA</td>\n",
       "      <td>CRM</td>\n",
       "      <td>CE</td>\n",
       "      <td>1</td>\n",
       "      <td>0</td>\n",
       "      <td>0</td>\n",
       "      <td>0</td>\n",
       "    </tr>\n",
       "    <tr>\n",
       "      <th>1</th>\n",
       "      <td>3356</td>\n",
       "      <td>2021</td>\n",
       "      <td>11</td>\n",
       "      <td>RJ</td>\n",
       "      <td>RIO DE JANEIRO</td>\n",
       "      <td>CLORIDRATO DE MOXIFLOXACINO</td>\n",
       "      <td>5 MG/ML SOL OFT CT FR PLAS TRANS GOT X 5 ML</td>\n",
       "      <td>1</td>\n",
       "      <td>CAIXA</td>\n",
       "      <td>CRM</td>\n",
       "      <td>RJ</td>\n",
       "      <td>5</td>\n",
       "      <td>2</td>\n",
       "      <td>50</td>\n",
       "      <td>1</td>\n",
       "    </tr>\n",
       "    <tr>\n",
       "      <th>2</th>\n",
       "      <td>137131</td>\n",
       "      <td>2021</td>\n",
       "      <td>11</td>\n",
       "      <td>RJ</td>\n",
       "      <td>RIO DE JANEIRO</td>\n",
       "      <td>SULFADIAZINA DE PRATA</td>\n",
       "      <td>10 MG / G CREM DERM CT BG AL REV X 50 GÂ Â</td>\n",
       "      <td>2</td>\n",
       "      <td>CAIXA</td>\n",
       "      <td>CRM</td>\n",
       "      <td>RJ</td>\n",
       "      <td>5</td>\n",
       "      <td>2</td>\n",
       "      <td>75</td>\n",
       "      <td>1</td>\n",
       "    </tr>\n",
       "    <tr>\n",
       "      <th>3</th>\n",
       "      <td>202348</td>\n",
       "      <td>2021</td>\n",
       "      <td>11</td>\n",
       "      <td>PR</td>\n",
       "      <td>ROLÃNDIA</td>\n",
       "      <td>ALPRAZOLAM</td>\n",
       "      <td>2 MG COM CT BL AL PLAS INC X 30</td>\n",
       "      <td>4</td>\n",
       "      <td>FRASCO</td>\n",
       "      <td>CRM</td>\n",
       "      <td>PR</td>\n",
       "      <td>2</td>\n",
       "      <td>0</td>\n",
       "      <td>0</td>\n",
       "      <td>0</td>\n",
       "    </tr>\n",
       "    <tr>\n",
       "      <th>4</th>\n",
       "      <td>152609</td>\n",
       "      <td>2021</td>\n",
       "      <td>11</td>\n",
       "      <td>RJ</td>\n",
       "      <td>SÃO GONÃALO</td>\n",
       "      <td>AMOXICILINA + CLAVULANATO DE POTÃSSIO</td>\n",
       "      <td>(500+125) MG COM REV CT STR AL/AL X 18</td>\n",
       "      <td>2</td>\n",
       "      <td>CAIXA</td>\n",
       "      <td>CRM</td>\n",
       "      <td>RJ</td>\n",
       "      <td>5</td>\n",
       "      <td>1</td>\n",
       "      <td>23</td>\n",
       "      <td>1</td>\n",
       "    </tr>\n",
       "    <tr>\n",
       "      <th>...</th>\n",
       "      <td>...</td>\n",
       "      <td>...</td>\n",
       "      <td>...</td>\n",
       "      <td>...</td>\n",
       "      <td>...</td>\n",
       "      <td>...</td>\n",
       "      <td>...</td>\n",
       "      <td>...</td>\n",
       "      <td>...</td>\n",
       "      <td>...</td>\n",
       "      <td>...</td>\n",
       "      <td>...</td>\n",
       "      <td>...</td>\n",
       "      <td>...</td>\n",
       "      <td>...</td>\n",
       "    </tr>\n",
       "    <tr>\n",
       "      <th>199995</th>\n",
       "      <td>125609</td>\n",
       "      <td>2021</td>\n",
       "      <td>11</td>\n",
       "      <td>MG</td>\n",
       "      <td>SENADOR MODESTINO GONÃALVES</td>\n",
       "      <td>CLONAZEPAM</td>\n",
       "      <td>2,5 MG/ML SOL OR CT FR PET AMB GOT X 20 ML</td>\n",
       "      <td>2</td>\n",
       "      <td>CAIXA</td>\n",
       "      <td>CRM</td>\n",
       "      <td>MG</td>\n",
       "      <td>2</td>\n",
       "      <td>0</td>\n",
       "      <td>0</td>\n",
       "      <td>0</td>\n",
       "    </tr>\n",
       "    <tr>\n",
       "      <th>199996</th>\n",
       "      <td>164823</td>\n",
       "      <td>2021</td>\n",
       "      <td>11</td>\n",
       "      <td>RJ</td>\n",
       "      <td>SÃO GONÃALO</td>\n",
       "      <td>CLONAZEPAM</td>\n",
       "      <td>2,5 MG/ML SOL OR CT FR GOT VD AMB X 20 ML</td>\n",
       "      <td>3</td>\n",
       "      <td>FRASCO</td>\n",
       "      <td>CRM</td>\n",
       "      <td>RJ</td>\n",
       "      <td>1</td>\n",
       "      <td>0</td>\n",
       "      <td>0</td>\n",
       "      <td>0</td>\n",
       "    </tr>\n",
       "    <tr>\n",
       "      <th>199997</th>\n",
       "      <td>176110</td>\n",
       "      <td>2021</td>\n",
       "      <td>11</td>\n",
       "      <td>RJ</td>\n",
       "      <td>PARATY</td>\n",
       "      <td>CELECOXIBE</td>\n",
       "      <td>200 MG CAP DURA CT BL AL PLAS TRANS X 15</td>\n",
       "      <td>2</td>\n",
       "      <td>CAIXA</td>\n",
       "      <td>CRM</td>\n",
       "      <td>RJ</td>\n",
       "      <td>1</td>\n",
       "      <td>0</td>\n",
       "      <td>0</td>\n",
       "      <td>0</td>\n",
       "    </tr>\n",
       "    <tr>\n",
       "      <th>199998</th>\n",
       "      <td>121939</td>\n",
       "      <td>2021</td>\n",
       "      <td>11</td>\n",
       "      <td>PA</td>\n",
       "      <td>ALTAMIRA</td>\n",
       "      <td>LEVOFLOXACINO</td>\n",
       "      <td>750 MG COM REV CT BL AL PLAS INC X 7</td>\n",
       "      <td>1</td>\n",
       "      <td>CAIXA</td>\n",
       "      <td>CRM</td>\n",
       "      <td>PA</td>\n",
       "      <td>5</td>\n",
       "      <td>2</td>\n",
       "      <td>50</td>\n",
       "      <td>1</td>\n",
       "    </tr>\n",
       "    <tr>\n",
       "      <th>199999</th>\n",
       "      <td>143233</td>\n",
       "      <td>2021</td>\n",
       "      <td>11</td>\n",
       "      <td>PA</td>\n",
       "      <td>ANANINDEUA</td>\n",
       "      <td>CLORIDRATO DE CIPROFLOXACINO MONOIDRATADO</td>\n",
       "      <td>500 MG COM REV CT BL AL PLAS TRANS X 14</td>\n",
       "      <td>1</td>\n",
       "      <td>CAIXA</td>\n",
       "      <td>CRM</td>\n",
       "      <td>PA</td>\n",
       "      <td>5</td>\n",
       "      <td>2</td>\n",
       "      <td>70</td>\n",
       "      <td>1</td>\n",
       "    </tr>\n",
       "  </tbody>\n",
       "</table>\n",
       "<p>183507 rows × 15 columns</p>\n",
       "</div>"
      ],
      "text/plain": [
       "        Unnamed: 0  ANO_VENDA  MES_VENDA UF_VENDA  \\\n",
       "0             5310       2021         11       CE   \n",
       "1             3356       2021         11       RJ   \n",
       "2           137131       2021         11       RJ   \n",
       "3           202348       2021         11       PR   \n",
       "4           152609       2021         11       RJ   \n",
       "...            ...        ...        ...      ...   \n",
       "199995      125609       2021         11       MG   \n",
       "199996      164823       2021         11       RJ   \n",
       "199997      176110       2021         11       RJ   \n",
       "199998      121939       2021         11       PA   \n",
       "199999      143233       2021         11       PA   \n",
       "\n",
       "                     MUNICIPIO_VENDA  \\\n",
       "0                          FORTALEZA   \n",
       "1                     RIO DE JANEIRO   \n",
       "2                     RIO DE JANEIRO   \n",
       "3                          ROLÃNDIA   \n",
       "4                      SÃO GONÃALO   \n",
       "...                              ...   \n",
       "199995  SENADOR MODESTINO GONÃALVES   \n",
       "199996                 SÃO GONÃALO   \n",
       "199997                        PARATY   \n",
       "199998                      ALTAMIRA   \n",
       "199999                    ANANINDEUA   \n",
       "\n",
       "                                  PRINCIPIO_ATIVO  \\\n",
       "0                                   OXCARBAZEPINA   \n",
       "1                     CLORIDRATO DE MOXIFLOXACINO   \n",
       "2                           SULFADIAZINA DE PRATA   \n",
       "3                                      ALPRAZOLAM   \n",
       "4          AMOXICILINA + CLAVULANATO DE POTÃSSIO   \n",
       "...                                           ...   \n",
       "199995                                 CLONAZEPAM   \n",
       "199996                                 CLONAZEPAM   \n",
       "199997                                 CELECOXIBE   \n",
       "199998                              LEVOFLOXACINO   \n",
       "199999  CLORIDRATO DE CIPROFLOXACINO MONOIDRATADO   \n",
       "\n",
       "                             DESCRICAO_APRESENTACAO  QTD_VENDIDA  \\\n",
       "0                   300 MG COM REV CT BL AL AL X 30            3   \n",
       "1       5 MG/ML SOL OFT CT FR PLAS TRANS GOT X 5 ML            1   \n",
       "2       10 MG / G CREM DERM CT BG AL REV X 50 GÂ Â             2   \n",
       "3                   2 MG COM CT BL AL PLAS INC X 30            4   \n",
       "4            (500+125) MG COM REV CT STR AL/AL X 18            2   \n",
       "...                                             ...          ...   \n",
       "199995   2,5 MG/ML SOL OR CT FR PET AMB GOT X 20 ML            2   \n",
       "199996    2,5 MG/ML SOL OR CT FR GOT VD AMB X 20 ML            3   \n",
       "199997     200 MG CAP DURA CT BL AL PLAS TRANS X 15            2   \n",
       "199998         750 MG COM REV CT BL AL PLAS INC X 7            1   \n",
       "199999      500 MG COM REV CT BL AL PLAS TRANS X 14            1   \n",
       "\n",
       "       UNIDADE_MEDIDA CONSELHO_PRESCRITOR UF_CONSELHO_PRESCRITOR  \\\n",
       "0               CAIXA                 CRM                     CE   \n",
       "1               CAIXA                 CRM                     RJ   \n",
       "2               CAIXA                 CRM                     RJ   \n",
       "3              FRASCO                 CRM                     PR   \n",
       "4               CAIXA                 CRM                     RJ   \n",
       "...               ...                 ...                    ...   \n",
       "199995          CAIXA                 CRM                     MG   \n",
       "199996         FRASCO                 CRM                     RJ   \n",
       "199997          CAIXA                 CRM                     RJ   \n",
       "199998          CAIXA                 CRM                     PA   \n",
       "199999          CAIXA                 CRM                     PA   \n",
       "\n",
       "        TIPO_RECEITUARIO  SEXO  IDADE  UNIDADE_IDADE  \n",
       "0                      1     0      0              0  \n",
       "1                      5     2     50              1  \n",
       "2                      5     2     75              1  \n",
       "3                      2     0      0              0  \n",
       "4                      5     1     23              1  \n",
       "...                  ...   ...    ...            ...  \n",
       "199995                 2     0      0              0  \n",
       "199996                 1     0      0              0  \n",
       "199997                 1     0      0              0  \n",
       "199998                 5     2     50              1  \n",
       "199999                 5     2     70              1  \n",
       "\n",
       "[183507 rows x 15 columns]"
      ]
     },
     "metadata": {},
     "output_type": "display_data"
    }
   ],
   "source": [
    "display(df_filtrado)"
   ]
  },
  {
   "cell_type": "markdown",
   "metadata": {
    "id": "A0hhgrL_qWgh"
   },
   "source": [
    "# Análise Descritiva"
   ]
  },
  {
   "cell_type": "markdown",
   "metadata": {
    "id": "sgul-QpD1f14"
   },
   "source": [
    "## 10 Estados que mais venderam medicamentos"
   ]
  },
  {
   "cell_type": "code",
   "execution_count": 26,
   "metadata": {
    "colab": {
     "base_uri": "https://localhost:8080/",
     "height": 363
    },
    "id": "D5rjf23XqVj4",
    "outputId": "314ab1c7-0a50-4b2d-9d75-fe06cf1cf15d"
   },
   "outputs": [
    {
     "data": {
      "text/html": [
       "<div>\n",
       "<style scoped>\n",
       "    .dataframe tbody tr th:only-of-type {\n",
       "        vertical-align: middle;\n",
       "    }\n",
       "\n",
       "    .dataframe tbody tr th {\n",
       "        vertical-align: top;\n",
       "    }\n",
       "\n",
       "    .dataframe thead th {\n",
       "        text-align: right;\n",
       "    }\n",
       "</style>\n",
       "<table border=\"1\" class=\"dataframe\">\n",
       "  <thead>\n",
       "    <tr style=\"text-align: right;\">\n",
       "      <th></th>\n",
       "      <th>index</th>\n",
       "      <th>UF_VENDA</th>\n",
       "    </tr>\n",
       "  </thead>\n",
       "  <tbody>\n",
       "    <tr>\n",
       "      <th>0</th>\n",
       "      <td>RJ</td>\n",
       "      <td>70898</td>\n",
       "    </tr>\n",
       "    <tr>\n",
       "      <th>1</th>\n",
       "      <td>SP</td>\n",
       "      <td>27470</td>\n",
       "    </tr>\n",
       "    <tr>\n",
       "      <th>2</th>\n",
       "      <td>SC</td>\n",
       "      <td>15448</td>\n",
       "    </tr>\n",
       "    <tr>\n",
       "      <th>3</th>\n",
       "      <td>PA</td>\n",
       "      <td>14975</td>\n",
       "    </tr>\n",
       "    <tr>\n",
       "      <th>4</th>\n",
       "      <td>PR</td>\n",
       "      <td>14291</td>\n",
       "    </tr>\n",
       "    <tr>\n",
       "      <th>5</th>\n",
       "      <td>MG</td>\n",
       "      <td>11305</td>\n",
       "    </tr>\n",
       "    <tr>\n",
       "      <th>6</th>\n",
       "      <td>PB</td>\n",
       "      <td>10577</td>\n",
       "    </tr>\n",
       "    <tr>\n",
       "      <th>7</th>\n",
       "      <td>ES</td>\n",
       "      <td>9741</td>\n",
       "    </tr>\n",
       "    <tr>\n",
       "      <th>8</th>\n",
       "      <td>RN</td>\n",
       "      <td>7572</td>\n",
       "    </tr>\n",
       "    <tr>\n",
       "      <th>9</th>\n",
       "      <td>MT</td>\n",
       "      <td>6586</td>\n",
       "    </tr>\n",
       "  </tbody>\n",
       "</table>\n",
       "</div>"
      ],
      "text/plain": [
       "  index  UF_VENDA\n",
       "0    RJ     70898\n",
       "1    SP     27470\n",
       "2    SC     15448\n",
       "3    PA     14975\n",
       "4    PR     14291\n",
       "5    MG     11305\n",
       "6    PB     10577\n",
       "7    ES      9741\n",
       "8    RN      7572\n",
       "9    MT      6586"
      ]
     },
     "metadata": {},
     "output_type": "display_data"
    }
   ],
   "source": [
    "display(df_new['UF_VENDA'].value_counts().sort_values(ascending=False).head(10).reset_index(drop=False))"
   ]
  },
  {
   "cell_type": "markdown",
   "metadata": {
    "id": "oLJYUMVs1uOf"
   },
   "source": [
    "## 10 Medicamentos mais vendidos"
   ]
  },
  {
   "cell_type": "code",
   "execution_count": 27,
   "metadata": {
    "colab": {
     "base_uri": "https://localhost:8080/",
     "height": 363
    },
    "id": "vJy-yEvaqu2o",
    "outputId": "93dd9341-2994-4e38-b09d-02bbbf0a5c57"
   },
   "outputs": [
    {
     "data": {
      "text/html": [
       "<div>\n",
       "<style scoped>\n",
       "    .dataframe tbody tr th:only-of-type {\n",
       "        vertical-align: middle;\n",
       "    }\n",
       "\n",
       "    .dataframe tbody tr th {\n",
       "        vertical-align: top;\n",
       "    }\n",
       "\n",
       "    .dataframe thead th {\n",
       "        text-align: right;\n",
       "    }\n",
       "</style>\n",
       "<table border=\"1\" class=\"dataframe\">\n",
       "  <thead>\n",
       "    <tr style=\"text-align: right;\">\n",
       "      <th></th>\n",
       "      <th>index</th>\n",
       "      <th>PRINCIPIO_ATIVO</th>\n",
       "    </tr>\n",
       "  </thead>\n",
       "  <tbody>\n",
       "    <tr>\n",
       "      <th>0</th>\n",
       "      <td>AZITROMICINA DI-HIDRATADA</td>\n",
       "      <td>12615</td>\n",
       "    </tr>\n",
       "    <tr>\n",
       "      <th>1</th>\n",
       "      <td>AMOXICILINA TRI-HIDRATADA</td>\n",
       "      <td>8153</td>\n",
       "    </tr>\n",
       "    <tr>\n",
       "      <th>2</th>\n",
       "      <td>AMOXICILINA TRI-HIDRATADA + CLAVULANATO DE POT...</td>\n",
       "      <td>7432</td>\n",
       "    </tr>\n",
       "    <tr>\n",
       "      <th>3</th>\n",
       "      <td>AMOXICILINA + CLAVULANATO DE POTÃSSIO</td>\n",
       "      <td>5288</td>\n",
       "    </tr>\n",
       "    <tr>\n",
       "      <th>4</th>\n",
       "      <td>CLONAZEPAM</td>\n",
       "      <td>5287</td>\n",
       "    </tr>\n",
       "    <tr>\n",
       "      <th>5</th>\n",
       "      <td>CEFALEXINA</td>\n",
       "      <td>4987</td>\n",
       "    </tr>\n",
       "    <tr>\n",
       "      <th>6</th>\n",
       "      <td>OXALATO DE ESCITALOPRAM</td>\n",
       "      <td>4893</td>\n",
       "    </tr>\n",
       "    <tr>\n",
       "      <th>7</th>\n",
       "      <td>CEFALEXINA MONOIDRATADA</td>\n",
       "      <td>4867</td>\n",
       "    </tr>\n",
       "    <tr>\n",
       "      <th>8</th>\n",
       "      <td>ALPRAZOLAM</td>\n",
       "      <td>3894</td>\n",
       "    </tr>\n",
       "    <tr>\n",
       "      <th>9</th>\n",
       "      <td>SULFAMETOXAZOL + TRIMETOPRIMA</td>\n",
       "      <td>3737</td>\n",
       "    </tr>\n",
       "  </tbody>\n",
       "</table>\n",
       "</div>"
      ],
      "text/plain": [
       "                                               index  PRINCIPIO_ATIVO\n",
       "0                          AZITROMICINA DI-HIDRATADA            12615\n",
       "1                          AMOXICILINA TRI-HIDRATADA             8153\n",
       "2  AMOXICILINA TRI-HIDRATADA + CLAVULANATO DE POT...             7432\n",
       "3             AMOXICILINA + CLAVULANATO DE POTÃSSIO             5288\n",
       "4                                         CLONAZEPAM             5287\n",
       "5                                         CEFALEXINA             4987\n",
       "6                            OXALATO DE ESCITALOPRAM             4893\n",
       "7                            CEFALEXINA MONOIDRATADA             4867\n",
       "8                                         ALPRAZOLAM             3894\n",
       "9                      SULFAMETOXAZOL + TRIMETOPRIMA             3737"
      ]
     },
     "metadata": {},
     "output_type": "display_data"
    }
   ],
   "source": [
    "display(df_new['PRINCIPIO_ATIVO'].value_counts().sort_values(ascending=False).head(10).reset_index(drop=False))"
   ]
  },
  {
   "cell_type": "markdown",
   "metadata": {
    "id": "ywUKIbRr1yIz"
   },
   "source": [
    "## 10 Apresentações mais vendidas"
   ]
  },
  {
   "cell_type": "code",
   "execution_count": 28,
   "metadata": {
    "colab": {
     "base_uri": "https://localhost:8080/",
     "height": 363
    },
    "id": "C4OU9W3UrIEE",
    "outputId": "03ad8e26-89e4-41b0-ae28-1fe535471686"
   },
   "outputs": [
    {
     "data": {
      "text/html": [
       "<div>\n",
       "<style scoped>\n",
       "    .dataframe tbody tr th:only-of-type {\n",
       "        vertical-align: middle;\n",
       "    }\n",
       "\n",
       "    .dataframe tbody tr th {\n",
       "        vertical-align: top;\n",
       "    }\n",
       "\n",
       "    .dataframe thead th {\n",
       "        text-align: right;\n",
       "    }\n",
       "</style>\n",
       "<table border=\"1\" class=\"dataframe\">\n",
       "  <thead>\n",
       "    <tr style=\"text-align: right;\">\n",
       "      <th></th>\n",
       "      <th>index</th>\n",
       "      <th>DESCRICAO_APRESENTACAO</th>\n",
       "    </tr>\n",
       "  </thead>\n",
       "  <tbody>\n",
       "    <tr>\n",
       "      <th>0</th>\n",
       "      <td>500 MG CAP DURA CT BL AL PLAS TRANS X 21</td>\n",
       "      <td>5890</td>\n",
       "    </tr>\n",
       "    <tr>\n",
       "      <th>1</th>\n",
       "      <td>500 MG COM REV CT BL AL PLAS TRANS X 14</td>\n",
       "      <td>4628</td>\n",
       "    </tr>\n",
       "    <tr>\n",
       "      <th>2</th>\n",
       "      <td>500 MG COM CT BL AL PLAS TRANS X 10</td>\n",
       "      <td>2346</td>\n",
       "    </tr>\n",
       "    <tr>\n",
       "      <th>3</th>\n",
       "      <td>500 MG COM REV CT BL AL PLAS PVC TRANS X 5</td>\n",
       "      <td>2210</td>\n",
       "    </tr>\n",
       "    <tr>\n",
       "      <th>4</th>\n",
       "      <td>875 MG + 125 MG COM REV CT FR VD AMB X 14</td>\n",
       "      <td>2032</td>\n",
       "    </tr>\n",
       "    <tr>\n",
       "      <th>5</th>\n",
       "      <td>100 MG CAP GEL DURA CT BL AL PLAS TRANS X 28</td>\n",
       "      <td>1410</td>\n",
       "    </tr>\n",
       "    <tr>\n",
       "      <th>6</th>\n",
       "      <td>500MG COM REV CT BL AL PLAS LEIT X 10</td>\n",
       "      <td>1399</td>\n",
       "    </tr>\n",
       "    <tr>\n",
       "      <th>7</th>\n",
       "      <td>875 MG + 125 MG COM REV CT BL AL/ AL X 14</td>\n",
       "      <td>1347</td>\n",
       "    </tr>\n",
       "    <tr>\n",
       "      <th>8</th>\n",
       "      <td>500 MG COM REV CT BL AL PLAS PVC OPC X 5</td>\n",
       "      <td>1198</td>\n",
       "    </tr>\n",
       "    <tr>\n",
       "      <th>9</th>\n",
       "      <td>(5 + 1) MG/ML SOL OFT CT FR GOT PLAS PEBD OPC ...</td>\n",
       "      <td>1198</td>\n",
       "    </tr>\n",
       "  </tbody>\n",
       "</table>\n",
       "</div>"
      ],
      "text/plain": [
       "                                               index  DESCRICAO_APRESENTACAO\n",
       "0           500 MG CAP DURA CT BL AL PLAS TRANS X 21                    5890\n",
       "1            500 MG COM REV CT BL AL PLAS TRANS X 14                    4628\n",
       "2                500 MG COM CT BL AL PLAS TRANS X 10                    2346\n",
       "3         500 MG COM REV CT BL AL PLAS PVC TRANS X 5                    2210\n",
       "4          875 MG + 125 MG COM REV CT FR VD AMB X 14                    2032\n",
       "5       100 MG CAP GEL DURA CT BL AL PLAS TRANS X 28                    1410\n",
       "6              500MG COM REV CT BL AL PLAS LEIT X 10                    1399\n",
       "7          875 MG + 125 MG COM REV CT BL AL/ AL X 14                    1347\n",
       "8           500 MG COM REV CT BL AL PLAS PVC OPC X 5                    1198\n",
       "9  (5 + 1) MG/ML SOL OFT CT FR GOT PLAS PEBD OPC ...                    1198"
      ]
     },
     "metadata": {},
     "output_type": "display_data"
    }
   ],
   "source": [
    "display(df_new['DESCRICAO_APRESENTACAO'].value_counts().sort_values(ascending=False).head(10).reset_index(drop=False))"
   ]
  },
  {
   "cell_type": "markdown",
   "metadata": {
    "id": "hzs57owe14Lb"
   },
   "source": [
    "## Distribuição de idade dos compradores"
   ]
  },
  {
   "cell_type": "code",
   "execution_count": 29,
   "metadata": {},
   "outputs": [
    {
     "data": {
      "text/plain": [
       "0      71495\n",
       "30      3371\n",
       "45      3309\n",
       "35      3081\n",
       "40      3068\n",
       "       ...  \n",
       "455        1\n",
       "923        1\n",
       "190        1\n",
       "339        1\n",
       "583        1\n",
       "Name: IDADE, Length: 180, dtype: int64"
      ]
     },
     "execution_count": 29,
     "metadata": {},
     "output_type": "execute_result"
    }
   ],
   "source": [
    "df_new['IDADE'].value_counts()"
   ]
  },
  {
   "cell_type": "markdown",
   "metadata": {},
   "source": [
    "## Apenas medicamentos antimicrobianos"
   ]
  },
  {
   "cell_type": "code",
   "execution_count": 30,
   "metadata": {
    "colab": {
     "base_uri": "https://localhost:8080/",
     "height": 472
    },
    "id": "PpymupQCrQqA",
    "outputId": "6dbb976d-46fc-4bd6-c8b6-127c6fca5305"
   },
   "outputs": [
    {
     "data": {
      "image/png": "[encoded data removed]",
      "text/plain": [
       "<Figure size 640x480 with 1 Axes>"
      ]
     },
     "metadata": {},
     "output_type": "display_data"
    }
   ],
   "source": [
    "coluna_interesse = 'IDADE'\n",
    "\n",
    "# Crie um histograma da coluna de interesse\n",
    "plt.hist(df_new[coluna_interesse], bins=10, edgecolor='k', alpha=0.65)\n",
    "plt.xlabel('Valores')\n",
    "plt.ylabel('Frequência')\n",
    "plt.title(f'Histograma de {coluna_interesse}')\n",
    "plt.show()"
   ]
  },
  {
   "cell_type": "markdown",
   "metadata": {
    "id": "AJufEj0V2Eky"
   },
   "source": [
    "## Distribuição de gênero dos compradores"
   ]
  },
  {
   "cell_type": "code",
   "execution_count": 31,
   "metadata": {
    "colab": {
     "base_uri": "https://localhost:8080/"
    },
    "id": "S6q6U603vEOb",
    "outputId": "f1357eda-fdbc-4690-9f43-9c8163717945"
   },
   "outputs": [
    {
     "data": {
      "text/plain": [
       "2    71965\n",
       "0    68884\n",
       "1    59151\n",
       "Name: SEXO, dtype: int64"
      ]
     },
     "execution_count": 31,
     "metadata": {},
     "output_type": "execute_result"
    }
   ],
   "source": [
    "df_new['SEXO'].value_counts()"
   ]
  },
  {
   "cell_type": "code",
   "execution_count": 32,
   "metadata": {},
   "outputs": [
    {
     "data": {
      "image/png": "[encoded data removed]",
      "text/plain": [
       "<Figure size 640x480 with 1 Axes>"
      ]
     },
     "metadata": {},
     "output_type": "display_data"
    }
   ],
   "source": [
    "coluna_interesse = 'SEXO'\n",
    "\n",
    "# Crie um histograma da coluna de interesse\n",
    "plt.hist(df_new[coluna_interesse], bins=10, edgecolor='k', alpha=0.65)\n",
    "plt.xlabel('Valores')\n",
    "plt.ylabel('Frequência')\n",
    "plt.title(f'Histograma de {coluna_interesse}')\n",
    "plt.show()"
   ]
  },
  {
   "cell_type": "markdown",
   "metadata": {
    "id": "_KEU6zzk2VfY"
   },
   "source": [
    "### Medicamentos mais Vendidos por Faixa Etária"
   ]
  },
  {
   "cell_type": "code",
   "execution_count": 34,
   "metadata": {
    "colab": {
     "base_uri": "https://localhost:8080/",
     "height": 363
    },
    "id": "CQq5S9HyvxsL",
    "outputId": "92afaf8a-dc39-4844-f1da-60dbd0882b67"
   },
   "outputs": [
    {
     "data": {
      "text/html": [
       "<div>\n",
       "<style scoped>\n",
       "    .dataframe tbody tr th:only-of-type {\n",
       "        vertical-align: middle;\n",
       "    }\n",
       "\n",
       "    .dataframe tbody tr th {\n",
       "        vertical-align: top;\n",
       "    }\n",
       "\n",
       "    .dataframe thead th {\n",
       "        text-align: right;\n",
       "    }\n",
       "</style>\n",
       "<table border=\"1\" class=\"dataframe\">\n",
       "  <thead>\n",
       "    <tr style=\"text-align: right;\">\n",
       "      <th></th>\n",
       "      <th>FAIXA_ETARIA</th>\n",
       "      <th>PRINCIPIO_ATIVO</th>\n",
       "      <th>Contagem</th>\n",
       "    </tr>\n",
       "  </thead>\n",
       "  <tbody>\n",
       "    <tr>\n",
       "      <th>45</th>\n",
       "      <td>[1, 11)</td>\n",
       "      <td>AZITROMICINA DI-HIDRATADA</td>\n",
       "      <td>2685</td>\n",
       "    </tr>\n",
       "    <tr>\n",
       "      <th>399</th>\n",
       "      <td>[11, 21)</td>\n",
       "      <td>AZITROMICINA DI-HIDRATADA</td>\n",
       "      <td>996</td>\n",
       "    </tr>\n",
       "    <tr>\n",
       "      <th>753</th>\n",
       "      <td>[21, 31)</td>\n",
       "      <td>AZITROMICINA DI-HIDRATADA</td>\n",
       "      <td>2202</td>\n",
       "    </tr>\n",
       "    <tr>\n",
       "      <th>1107</th>\n",
       "      <td>[31, 41)</td>\n",
       "      <td>AZITROMICINA DI-HIDRATADA</td>\n",
       "      <td>2272</td>\n",
       "    </tr>\n",
       "    <tr>\n",
       "      <th>1461</th>\n",
       "      <td>[41, 51)</td>\n",
       "      <td>AZITROMICINA DI-HIDRATADA</td>\n",
       "      <td>1724</td>\n",
       "    </tr>\n",
       "    <tr>\n",
       "      <th>1815</th>\n",
       "      <td>[51, 61)</td>\n",
       "      <td>AZITROMICINA DI-HIDRATADA</td>\n",
       "      <td>1234</td>\n",
       "    </tr>\n",
       "    <tr>\n",
       "      <th>2169</th>\n",
       "      <td>[61, 71)</td>\n",
       "      <td>AZITROMICINA DI-HIDRATADA</td>\n",
       "      <td>749</td>\n",
       "    </tr>\n",
       "    <tr>\n",
       "      <th>2523</th>\n",
       "      <td>[71, 81)</td>\n",
       "      <td>AZITROMICINA DI-HIDRATADA</td>\n",
       "      <td>332</td>\n",
       "    </tr>\n",
       "    <tr>\n",
       "      <th>2859</th>\n",
       "      <td>[81, 91)</td>\n",
       "      <td>AMOXICILINA TRI-HIDRATADA + CLAVULANATO DE POT...</td>\n",
       "      <td>156</td>\n",
       "    </tr>\n",
       "    <tr>\n",
       "      <th>3468</th>\n",
       "      <td>[91, 101)</td>\n",
       "      <td>NITROFURANTOÃNA</td>\n",
       "      <td>42</td>\n",
       "    </tr>\n",
       "    <tr>\n",
       "      <th>3822</th>\n",
       "      <td>[101, 111)</td>\n",
       "      <td>NITROFURANTOÃNA</td>\n",
       "      <td>4</td>\n",
       "    </tr>\n",
       "    <tr>\n",
       "      <th>3916</th>\n",
       "      <td>[111, 121)</td>\n",
       "      <td>AMOXICILINA TRI-HIDRATADA</td>\n",
       "      <td>1</td>\n",
       "    </tr>\n",
       "    <tr>\n",
       "      <th>3921</th>\n",
       "      <td>[111, 121)</td>\n",
       "      <td>AMOXICILINA TRI-HIDRATADA + CLAVULANATO DE POT...</td>\n",
       "      <td>1</td>\n",
       "    </tr>\n",
       "    <tr>\n",
       "      <th>3993</th>\n",
       "      <td>[111, 121)</td>\n",
       "      <td>CLORFENESINA + CLORIDRATO DE TETRACAÃNA + VAL...</td>\n",
       "      <td>1</td>\n",
       "    </tr>\n",
       "    <tr>\n",
       "      <th>4037</th>\n",
       "      <td>[111, 121)</td>\n",
       "      <td>CLORIDRATO DE MOXIFLOXACINO + FOSFATO DISSÃDI...</td>\n",
       "      <td>1</td>\n",
       "    </tr>\n",
       "    <tr>\n",
       "      <th>4148</th>\n",
       "      <td>[111, 121)</td>\n",
       "      <td>LEVOFLOXACINO HEMIIDRATADO</td>\n",
       "      <td>1</td>\n",
       "    </tr>\n",
       "  </tbody>\n",
       "</table>\n",
       "</div>"
      ],
      "text/plain": [
       "     FAIXA_ETARIA                                    PRINCIPIO_ATIVO  Contagem\n",
       "45        [1, 11)                          AZITROMICINA DI-HIDRATADA      2685\n",
       "399      [11, 21)                          AZITROMICINA DI-HIDRATADA       996\n",
       "753      [21, 31)                          AZITROMICINA DI-HIDRATADA      2202\n",
       "1107     [31, 41)                          AZITROMICINA DI-HIDRATADA      2272\n",
       "1461     [41, 51)                          AZITROMICINA DI-HIDRATADA      1724\n",
       "1815     [51, 61)                          AZITROMICINA DI-HIDRATADA      1234\n",
       "2169     [61, 71)                          AZITROMICINA DI-HIDRATADA       749\n",
       "2523     [71, 81)                          AZITROMICINA DI-HIDRATADA       332\n",
       "2859     [81, 91)  AMOXICILINA TRI-HIDRATADA + CLAVULANATO DE POT...       156\n",
       "3468    [91, 101)                                   NITROFURANTOÃNA        42\n",
       "3822   [101, 111)                                   NITROFURANTOÃNA         4\n",
       "3916   [111, 121)                          AMOXICILINA TRI-HIDRATADA         1\n",
       "3921   [111, 121)  AMOXICILINA TRI-HIDRATADA + CLAVULANATO DE POT...         1\n",
       "3993   [111, 121)  CLORFENESINA + CLORIDRATO DE TETRACAÃNA + VAL...         1\n",
       "4037   [111, 121)  CLORIDRATO DE MOXIFLOXACINO + FOSFATO DISSÃDI...         1\n",
       "4148   [111, 121)                         LEVOFLOXACINO HEMIIDRATADO         1"
      ]
     },
     "metadata": {},
     "output_type": "display_data"
    }
   ],
   "source": [
    "faixa_etaria_inicial = 1\n",
    "faixa_etaria_final = 121\n",
    "incremento_faixa_etaria = 10\n",
    "\n",
    "# Crie uma nova coluna 'FAIXA_ETARIA' com base na 'IDADE'\n",
    "df_new['FAIXA_ETARIA'] = pd.cut(df_new['IDADE'],\n",
    "                                    bins=range(faixa_etaria_inicial, faixa_etaria_final+1, incremento_faixa_etaria),\n",
    "                                    right=False)\n",
    "\n",
    "# Contar a ocorrência de cada medicamento em cada faixa etária\n",
    "contagem_medicamentos = df_new.groupby(['FAIXA_ETARIA', 'PRINCIPIO_ATIVO']).size().reset_index(name='Contagem')\n",
    "\n",
    "# Encontrar o medicamento mais frequente em cada faixa etária\n",
    "idx = contagem_medicamentos.groupby(['FAIXA_ETARIA'])['Contagem'].transform(max) == contagem_medicamentos['Contagem']\n",
    "medicamentos_mais_frequentes_faixa_etaria = contagem_medicamentos[idx]\n",
    "\n",
    "# Exibir os medicamentos mais frequentes por faixa etária\n",
    "display(medicamentos_mais_frequentes_faixa_etaria)"
   ]
  },
  {
   "cell_type": "markdown",
   "metadata": {
    "id": "2YNJUbCL1Vzb"
   },
   "source": [
    "### 10 Medicamentos mais utilizados por gênero"
   ]
  },
  {
   "cell_type": "markdown",
   "metadata": {
    "id": "dnrm8LB63DDv"
   },
   "source": [
    "### Masculino"
   ]
  },
  {
   "cell_type": "code",
   "execution_count": 36,
   "metadata": {
    "colab": {
     "base_uri": "https://localhost:8080/",
     "height": 363
    },
    "id": "a8lRDlaww9nL",
    "outputId": "6bc1c901-352b-4594-d2ce-5e324ad9af56"
   },
   "outputs": [
    {
     "data": {
      "text/html": [
       "<div>\n",
       "<style scoped>\n",
       "    .dataframe tbody tr th:only-of-type {\n",
       "        vertical-align: middle;\n",
       "    }\n",
       "\n",
       "    .dataframe tbody tr th {\n",
       "        vertical-align: top;\n",
       "    }\n",
       "\n",
       "    .dataframe thead th {\n",
       "        text-align: right;\n",
       "    }\n",
       "</style>\n",
       "<table border=\"1\" class=\"dataframe\">\n",
       "  <thead>\n",
       "    <tr style=\"text-align: right;\">\n",
       "      <th></th>\n",
       "      <th>index</th>\n",
       "      <th>PRINCIPIO_ATIVO</th>\n",
       "    </tr>\n",
       "  </thead>\n",
       "  <tbody>\n",
       "    <tr>\n",
       "      <th>0</th>\n",
       "      <td>AZITROMICINA DI-HIDRATADA</td>\n",
       "      <td>6194</td>\n",
       "    </tr>\n",
       "    <tr>\n",
       "      <th>1</th>\n",
       "      <td>AMOXICILINA TRI-HIDRATADA</td>\n",
       "      <td>3902</td>\n",
       "    </tr>\n",
       "    <tr>\n",
       "      <th>2</th>\n",
       "      <td>AMOXICILINA TRI-HIDRATADA + CLAVULANATO DE POT...</td>\n",
       "      <td>3543</td>\n",
       "    </tr>\n",
       "    <tr>\n",
       "      <th>3</th>\n",
       "      <td>AMOXICILINA + CLAVULANATO DE POTÃSSIO</td>\n",
       "      <td>2458</td>\n",
       "    </tr>\n",
       "    <tr>\n",
       "      <th>4</th>\n",
       "      <td>CEFALEXINA MONOIDRATADA</td>\n",
       "      <td>2336</td>\n",
       "    </tr>\n",
       "    <tr>\n",
       "      <th>5</th>\n",
       "      <td>CEFALEXINA</td>\n",
       "      <td>2213</td>\n",
       "    </tr>\n",
       "    <tr>\n",
       "      <th>6</th>\n",
       "      <td>SULFAMETOXAZOL + TRIMETOPRIMA</td>\n",
       "      <td>1720</td>\n",
       "    </tr>\n",
       "    <tr>\n",
       "      <th>7</th>\n",
       "      <td>CLORIDRATO DE CIPROFLOXACINO</td>\n",
       "      <td>1527</td>\n",
       "    </tr>\n",
       "    <tr>\n",
       "      <th>8</th>\n",
       "      <td>AMOXICILINA</td>\n",
       "      <td>1486</td>\n",
       "    </tr>\n",
       "    <tr>\n",
       "      <th>9</th>\n",
       "      <td>AMOXICILINA TRIHIDRATADA</td>\n",
       "      <td>1376</td>\n",
       "    </tr>\n",
       "  </tbody>\n",
       "</table>\n",
       "</div>"
      ],
      "text/plain": [
       "                                               index  PRINCIPIO_ATIVO\n",
       "0                          AZITROMICINA DI-HIDRATADA             6194\n",
       "1                          AMOXICILINA TRI-HIDRATADA             3902\n",
       "2  AMOXICILINA TRI-HIDRATADA + CLAVULANATO DE POT...             3543\n",
       "3             AMOXICILINA + CLAVULANATO DE POTÃSSIO             2458\n",
       "4                            CEFALEXINA MONOIDRATADA             2336\n",
       "5                                         CEFALEXINA             2213\n",
       "6                      SULFAMETOXAZOL + TRIMETOPRIMA             1720\n",
       "7                       CLORIDRATO DE CIPROFLOXACINO             1527\n",
       "8                                        AMOXICILINA             1486\n",
       "9                           AMOXICILINA TRIHIDRATADA             1376"
      ]
     },
     "metadata": {},
     "output_type": "display_data"
    }
   ],
   "source": [
    "fr_med_sexo_1 = df_new[df_new['SEXO'] == 1]\n",
    "fr_med_sexo_1 = fr_med_sexo_1['PRINCIPIO_ATIVO'].value_counts().head(10)\n",
    "fr_med_sexo_1 = fr_med_sexo_1.reset_index(drop=False)\n",
    "\n",
    "display(fr_med_sexo_1)"
   ]
  },
  {
   "cell_type": "markdown",
   "metadata": {
    "id": "lmsQoQVO3A2M"
   },
   "source": [
    "### Feminino"
   ]
  },
  {
   "cell_type": "code",
   "execution_count": 37,
   "metadata": {
    "colab": {
     "base_uri": "https://localhost:8080/",
     "height": 363
    },
    "id": "zm6Wbx-8xn03",
    "outputId": "4fd177f7-f040-4345-c1dd-4db6dbaf975d"
   },
   "outputs": [
    {
     "data": {
      "text/html": [
       "<div>\n",
       "<style scoped>\n",
       "    .dataframe tbody tr th:only-of-type {\n",
       "        vertical-align: middle;\n",
       "    }\n",
       "\n",
       "    .dataframe tbody tr th {\n",
       "        vertical-align: top;\n",
       "    }\n",
       "\n",
       "    .dataframe thead th {\n",
       "        text-align: right;\n",
       "    }\n",
       "</style>\n",
       "<table border=\"1\" class=\"dataframe\">\n",
       "  <thead>\n",
       "    <tr style=\"text-align: right;\">\n",
       "      <th></th>\n",
       "      <th>index</th>\n",
       "      <th>PRINCIPIO_ATIVO</th>\n",
       "    </tr>\n",
       "  </thead>\n",
       "  <tbody>\n",
       "    <tr>\n",
       "      <th>0</th>\n",
       "      <td>AZITROMICINA DI-HIDRATADA</td>\n",
       "      <td>6255</td>\n",
       "    </tr>\n",
       "    <tr>\n",
       "      <th>1</th>\n",
       "      <td>AMOXICILINA TRI-HIDRATADA</td>\n",
       "      <td>4082</td>\n",
       "    </tr>\n",
       "    <tr>\n",
       "      <th>2</th>\n",
       "      <td>AMOXICILINA TRI-HIDRATADA + CLAVULANATO DE POT...</td>\n",
       "      <td>3659</td>\n",
       "    </tr>\n",
       "    <tr>\n",
       "      <th>3</th>\n",
       "      <td>AMOXICILINA + CLAVULANATO DE POTÃSSIO</td>\n",
       "      <td>2630</td>\n",
       "    </tr>\n",
       "    <tr>\n",
       "      <th>4</th>\n",
       "      <td>CEFALEXINA</td>\n",
       "      <td>2578</td>\n",
       "    </tr>\n",
       "    <tr>\n",
       "      <th>5</th>\n",
       "      <td>CEFALEXINA MONOIDRATADA</td>\n",
       "      <td>2366</td>\n",
       "    </tr>\n",
       "    <tr>\n",
       "      <th>6</th>\n",
       "      <td>CLORIDRATO DE CIPROFLOXACINO</td>\n",
       "      <td>2086</td>\n",
       "    </tr>\n",
       "    <tr>\n",
       "      <th>7</th>\n",
       "      <td>METRONIDAZOL</td>\n",
       "      <td>2007</td>\n",
       "    </tr>\n",
       "    <tr>\n",
       "      <th>8</th>\n",
       "      <td>NITROFURANTOÃNA</td>\n",
       "      <td>1910</td>\n",
       "    </tr>\n",
       "    <tr>\n",
       "      <th>9</th>\n",
       "      <td>SULFAMETOXAZOL + TRIMETOPRIMA</td>\n",
       "      <td>1857</td>\n",
       "    </tr>\n",
       "  </tbody>\n",
       "</table>\n",
       "</div>"
      ],
      "text/plain": [
       "                                               index  PRINCIPIO_ATIVO\n",
       "0                          AZITROMICINA DI-HIDRATADA             6255\n",
       "1                          AMOXICILINA TRI-HIDRATADA             4082\n",
       "2  AMOXICILINA TRI-HIDRATADA + CLAVULANATO DE POT...             3659\n",
       "3             AMOXICILINA + CLAVULANATO DE POTÃSSIO             2630\n",
       "4                                         CEFALEXINA             2578\n",
       "5                            CEFALEXINA MONOIDRATADA             2366\n",
       "6                       CLORIDRATO DE CIPROFLOXACINO             2086\n",
       "7                                       METRONIDAZOL             2007\n",
       "8                                   NITROFURANTOÃNA             1910\n",
       "9                      SULFAMETOXAZOL + TRIMETOPRIMA             1857"
      ]
     },
     "metadata": {},
     "output_type": "display_data"
    }
   ],
   "source": [
    "fr_med_sexo_2 = df_new[df_new['SEXO'] == 2]\n",
    "fr_med_sexo_2 = fr_med_sexo_2['PRINCIPIO_ATIVO'].value_counts().head(10)\n",
    "fr_med_sexo_2 = fr_med_sexo_2.reset_index(drop=False)\n",
    "\n",
    "display(fr_med_sexo_2)"
   ]
  },
  {
   "cell_type": "markdown",
   "metadata": {},
   "source": [
    "# Medicamentos não antimicrobianos"
   ]
  },
  {
   "cell_type": "code",
   "execution_count": null,
   "metadata": {},
   "outputs": [],
   "source": [
    "contagem_medicamentos = df_filtrado[df_filtrado['IDADE'] == 0]\n",
    "\n",
    "contagem_medicamentos = df_filtrado['PRINCIPIO_ATIVO'].value_counts().head(10).reset_index(drop=False)\n",
    "\n",
    "display(contagem_medicamentos)\n",
    "\n",
    "\"\"\" A medicação não antimicrobiana mais vendida é OXALATO DE ESCITALOPRAM.\n",
    "\n",
    "O registro da venda de medicamentos antimicrobianos ainda precisa ser aprimorado,\n",
    "pois muitas vendas ainda não possuem descrição completa do comprador.\"\"\""
   ]
  },
  {
   "cell_type": "markdown",
   "metadata": {
    "id": "iVWWpU_r3n5G"
   },
   "source": [
    "# HeatMap"
   ]
  },
  {
   "cell_type": "code",
   "execution_count": null,
   "metadata": {},
   "outputs": [],
   "source": [
    "display(df_filtrado)"
   ]
  },
  {
   "cell_type": "code",
   "execution_count": null,
   "metadata": {
    "id": "aU2ut7pL3nKI"
   },
   "outputs": [],
   "source": []
  }
 ],
 "metadata": {
  "colab": {
   "authorship_tag": "ABX9TyMUjInaL6Fg5W5C0/2UTJM0",
   "include_colab_link": true,
   "provenance": [],
   "toc_visible": true
  },
  "kernelspec": {
   "display_name": "Python 3 (ipykernel)",
   "language": "python",
   "name": "python3"
  },
  "language_info": {
   "codemirror_mode": {
    "name": "ipython",
    "version": 3
   },
   "file_extension": ".py",
   "mimetype": "text/x-python",
   "name": "python",
   "nbconvert_exporter": "python",
   "pygments_lexer": "ipython3",
   "version": "3.9.16"
  }
 },
 "nbformat": 4,
 "nbformat_minor": 1
}
